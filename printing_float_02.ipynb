{
  "nbformat": 4,
  "nbformat_minor": 0,
  "metadata": {
    "colab": {
      "name": "printing-float-02.ipynb",
      "provenance": [],
      "authorship_tag": "ABX9TyPgwdDzemVqmuZVb7KPLRBy",
      "include_colab_link": true
    },
    "kernelspec": {
      "name": "python3",
      "display_name": "Python 3"
    }
  },
  "cells": [
    {
      "cell_type": "markdown",
      "metadata": {
        "id": "view-in-github",
        "colab_type": "text"
      },
      "source": [
        "<a href=\"https://colab.research.google.com/github/anasir514/colab/blob/main/printing_float_02.ipynb\" target=\"_parent\"><img src=\"https://colab.research.google.com/assets/colab-badge.svg\" alt=\"Open In Colab\"/></a>"
      ]
    },
    {
      "cell_type": "code",
      "metadata": {
        "colab": {
          "base_uri": "https://localhost:8080/"
        },
        "id": "atcqoS_Yl9Dj",
        "outputId": "843e8044-1acd-4500-fa2e-20b08f4380da"
      },
      "source": [
        "pi = 3.1415926535\n",
        "print(f'Pi: {pi:.2f}')"
      ],
      "execution_count": 13,
      "outputs": [
        {
          "output_type": "stream",
          "text": [
            "Pi: 3.14\n"
          ],
          "name": "stdout"
        }
      ]
    }
  ]
}