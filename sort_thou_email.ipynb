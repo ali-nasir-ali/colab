{
  "nbformat": 4,
  "nbformat_minor": 0,
  "metadata": {
    "colab": {
      "name": "Untitled4.ipynb",
      "provenance": [],
      "authorship_tag": "ABX9TyMIx4FNEsGwghmF0jpJzOGd",
      "include_colab_link": true
    },
    "kernelspec": {
      "name": "python3",
      "display_name": "Python 3"
    }
  },
  "cells": [
    {
      "cell_type": "markdown",
      "metadata": {
        "id": "view-in-github",
        "colab_type": "text"
      },
      "source": [
        "<a href=\"https://colab.research.google.com/github/anasir514/colab/blob/main/sort_thou_email.ipynb\" target=\"_parent\"><img src=\"https://colab.research.google.com/assets/colab-badge.svg\" alt=\"Open In Colab\"/></a>"
      ]
    },
    {
      "cell_type": "code",
      "metadata": {
        "colab": {
          "base_uri": "https://localhost:8080/"
        },
        "id": "rU05_CHoGy5t",
        "outputId": "7ab293db-ac26-44bb-e9ff-621a91710bdd"
      },
      "source": [
        "words = 'His e-mail is q-lar@freecodecamp.org'\n",
        "pieces = words.split()\n",
        "parts = pieces[3].split('-')\n",
        "n = parts[1]\n",
        "print(n)"
      ],
      "execution_count": 3,
      "outputs": [
        {
          "output_type": "stream",
          "text": [
            "lar@freecodecamp.org\n"
          ],
          "name": "stdout"
        }
      ]
    }
  ]
}