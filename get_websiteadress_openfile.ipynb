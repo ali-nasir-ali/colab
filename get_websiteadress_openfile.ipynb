{
  "nbformat": 4,
  "nbformat_minor": 0,
  "metadata": {
    "colab": {
      "name": "Untitled4.ipynb",
      "provenance": [],
      "authorship_tag": "ABX9TyPmwjxhW8/tdluO88lzH7ZZ",
      "include_colab_link": true
    },
    "kernelspec": {
      "name": "python3",
      "display_name": "Python 3"
    }
  },
  "cells": [
    {
      "cell_type": "markdown",
      "metadata": {
        "id": "view-in-github",
        "colab_type": "text"
      },
      "source": [
        "<a href=\"https://colab.research.google.com/github/anasir514/colab/blob/main/get_websiteadress_openfile.ipynb\" target=\"_parent\"><img src=\"https://colab.research.google.com/assets/colab-badge.svg\" alt=\"Open In Colab\"/></a>"
      ]
    },
    {
      "cell_type": "code",
      "metadata": {
        "colab": {
          "base_uri": "https://localhost:8080/"
        },
        "id": "rU05_CHoGy5t",
        "outputId": "ab97fd27-3278-4505-9f81-15c9b86107ee"
      },
      "source": [
        "import urllib.request\n",
        "fhand = urllib.request.urlopen('http://data.pr4e.org/romeo.txt')\n",
        "for line in fhand:\n",
        "    print(line.decode().strip())"
      ],
      "execution_count": 9,
      "outputs": [
        {
          "output_type": "stream",
          "text": [
            "But soft what light through yonder window breaks\n",
            "It is the east and Juliet is the sun\n",
            "Arise fair sun and kill the envious moon\n",
            "Who is already sick and pale with grief\n"
          ],
          "name": "stdout"
        }
      ]
    }
  ]
}