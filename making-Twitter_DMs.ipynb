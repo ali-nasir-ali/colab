{
  "nbformat": 4,
  "nbformat_minor": 0,
  "metadata": {
    "kernelspec": {
      "display_name": "Python 3",
      "language": "python",
      "name": "python3"
    },
    "language_info": {
      "codemirror_mode": {
        "name": "ipython",
        "version": 3
      },
      "file_extension": ".py",
      "mimetype": "text/x-python",
      "name": "python",
      "nbconvert_exporter": "python",
      "pygments_lexer": "ipython3",
      "version": "3.7.0"
    },
    "colab": {
      "name": "Twitter DMs",
      "provenance": [],
      "collapsed_sections": [],
      "include_colab_link": true
    }
  },
  "cells": [
    {
      "cell_type": "markdown",
      "metadata": {
        "id": "view-in-github",
        "colab_type": "text"
      },
      "source": [
        "<a href=\"https://colab.research.google.com/github/anasir514/colab/blob/main/making-Twitter_DMs.ipynb\" target=\"_parent\"><img src=\"https://colab.research.google.com/assets/colab-badge.svg\" alt=\"Open In Colab\"/></a>"
      ]
    },
    {
      "cell_type": "code",
      "metadata": {
        "id": "6STv4Eu8NexO"
      },
      "source": [
        "import base64\n",
        "\n",
        "#Define your keys from the developer portal\n",
        "client_key = ''\n",
        "client_secret = ''\n",
        "oauth_key = ''\n",
        "oauth_token_secret  = ''\n",
        "\n",
        "import requests\n",
        "import urllib\n",
        "import time\n",
        "import hmac\n",
        "import hashlib\n",
        "import json"
      ],
      "execution_count": null,
      "outputs": []
    },
    {
      "cell_type": "markdown",
      "metadata": {
        "id": "HTAcIsicc30x"
      },
      "source": [
        "DELETE ANY WELCOME MESSAGE"
      ]
    },
    {
      "cell_type": "code",
      "metadata": {
        "id": "2f9IcutINexV",
        "colab": {
          "base_uri": "https://localhost:8080/",
          "height": 34
        },
        "outputId": "3c84f7c1-2330-435e-9264-2621fe00df9f"
      },
      "source": [
        "mess_id=1218053184377081860\n",
        "base_url = 'https://api.twitter.com/1.1/direct_messages/welcome_messages/destroy.json'\n",
        "b = f'{urllib.parse.quote(\"oauth_consumer_key\",\"\")}={urllib.parse.quote(client_key,\"\")}'\n",
        "c = f'{urllib.parse.quote(\"oauth_nonce\",\"\")}={urllib.parse.quote(\"adxfwe\",\"\")}'\n",
        "\n",
        "d = f'{urllib.parse.quote(\"oauth_signature_method\",\"\")}={urllib.parse.quote(\"HMAC-SHA1\",\"\")}'\n",
        "e = f'{urllib.parse.quote(\"oauth_timestamp\",\"\")}={urllib.parse.quote(str(int(time.time())))}'\n",
        "f = f'{urllib.parse.quote(\"oauth_token\",\"\")}={urllib.parse.quote(oauth_key,\"\")}'\n",
        "g = f'{urllib.parse.quote(\"oauth_version\",\"\")}={urllib.parse.quote(\"1.0\",\"\")}'\n",
        "a = f'{urllib.parse.quote(\"id\",\"\")}={urllib.parse.quote(str(mess_id),\"\")}'\n",
        "param_string = f'{a}&{b}&{c}&{d}&{e}&{f}&{g}'\n",
        "sig_string = f'DELETE&{urllib.parse.quote(base_url,\"\")}&{urllib.parse.quote(param_string,\"\")}'\n",
        "\n",
        "signing_key = urllib.parse.quote(client_secret,\"\")+'&'+urllib.parse.quote(oauth_token_secret,\"\")\n",
        "\n",
        "oauth_sig = base64.b64encode(hmac.new(signing_key.encode(), sig_string.encode(), hashlib.sha1).digest())\n",
        "\n",
        "a = f'{urllib.parse.quote(\"id\",\"\")}=\"{urllib.parse.quote(str(mess_id),\"\")}\"'\n",
        "b = f'{urllib.parse.quote(\"oauth_consumer_key\",\"\")}=\"{urllib.parse.quote(client_key,\"\")}\"'\n",
        "c = f'{urllib.parse.quote(\"oauth_nonce\",\"\")}=\"{urllib.parse.quote(\"adxfwe\",\"\")}\"'\n",
        "\n",
        "d = f'{urllib.parse.quote(\"oauth_signature_method\",\"\")}=\"{urllib.parse.quote(\"HMAC-SHA1\",\"\")}\"'\n",
        "e = f'{urllib.parse.quote(\"oauth_timestamp\",\"\")}=\"{urllib.parse.quote(str(int(time.time())))}\"'\n",
        "f = f'{urllib.parse.quote(\"oauth_token\",\"\")}=\"{urllib.parse.quote(oauth_key,\"\")}\"'\n",
        "g = f'{urllib.parse.quote(\"oauth_version\",\"\")}=\"{urllib.parse.quote(\"1.0\",\"\")}\"'\n",
        "c1 = f'{urllib.parse.quote(\"oauth_signature\",\"\")}=\"{urllib.parse.quote(oauth_sig,\"\")}\"'\n",
        "auth_header = {'Authorization': f\"OAuth {a}, {b}, {c}, {c1}, {d}, {e}, {f}, {g}\"}\n",
        "\n",
        "auth_resp = requests.delete(url=base_url, headers = auth_header, params={'id':mess_id})\n",
        "print(auth_resp)"
      ],
      "execution_count": null,
      "outputs": [
        {
          "output_type": "stream",
          "text": [
            "<Response [204]>\n"
          ],
          "name": "stdout"
        }
      ]
    },
    {
      "cell_type": "markdown",
      "metadata": {
        "id": "Db4sku6Rc7Ss"
      },
      "source": [
        "GET A LIST OF WELCOME MESSAGES"
      ]
    },
    {
      "cell_type": "code",
      "metadata": {
        "id": "fmirRA-KNexX",
        "colab": {
          "base_uri": "https://localhost:8080/",
          "height": 71
        },
        "outputId": "7dbf0b1b-f079-47a4-8831-fbd7624cc2c3"
      },
      "source": [
        "base_url = 'https://api.twitter.com/1.1/direct_messages/welcome_messages/list.json'\n",
        "b = f'{urllib.parse.quote(\"oauth_consumer_key\",\"\")}={urllib.parse.quote(client_key,\"\")}'\n",
        "c = f'{urllib.parse.quote(\"oauth_nonce\",\"\")}={urllib.parse.quote(\"adxfwe\",\"\")}'\n",
        "\n",
        "d = f'{urllib.parse.quote(\"oauth_signature_method\",\"\")}={urllib.parse.quote(\"HMAC-SHA1\",\"\")}'\n",
        "e = f'{urllib.parse.quote(\"oauth_timestamp\",\"\")}={urllib.parse.quote(str(int(time.time())))}'\n",
        "f = f'{urllib.parse.quote(\"oauth_token\",\"\")}={urllib.parse.quote(oauth_key,\"\")}'\n",
        "g = f'{urllib.parse.quote(\"oauth_version\",\"\")}={urllib.parse.quote(\"1.0\",\"\")}'\n",
        "param_string = f'{b}&{c}&{d}&{e}&{f}&{g}'\n",
        "sig_string = f'GET&{urllib.parse.quote(base_url,\"\")}&{urllib.parse.quote(param_string,\"\")}'\n",
        "\n",
        "signing_key = urllib.parse.quote(client_secret,\"\")+'&'+urllib.parse.quote(oauth_token_secret,\"\")\n",
        "oauth_sig = base64.b64encode(hmac.new(signing_key.encode(), sig_string.encode(), hashlib.sha1).digest())\n",
        "b = f'{urllib.parse.quote(\"oauth_consumer_key\",\"\")}=\"{urllib.parse.quote(client_key,\"\")}\"'\n",
        "c = f'{urllib.parse.quote(\"oauth_nonce\",\"\")}=\"{urllib.parse.quote(\"adxfwe\",\"\")}\"'\n",
        "\n",
        "d = f'{urllib.parse.quote(\"oauth_signature_method\",\"\")}=\"{urllib.parse.quote(\"HMAC-SHA1\",\"\")}\"'\n",
        "e = f'{urllib.parse.quote(\"oauth_timestamp\",\"\")}=\"{urllib.parse.quote(str(int(time.time())))}\"'\n",
        "f = f'{urllib.parse.quote(\"oauth_token\",\"\")}=\"{urllib.parse.quote(oauth_key,\"\")}\"'\n",
        "g = f'{urllib.parse.quote(\"oauth_version\",\"\")}=\"{urllib.parse.quote(\"1.0\",\"\")}\"'\n",
        "c1 = f'{urllib.parse.quote(\"oauth_signature\",\"\")}=\"{urllib.parse.quote(oauth_sig,\"\")}\"'\n",
        "auth_header = {'Authorization': f\"OAuth {b}, {c}, {c1}, {d}, {e}, {f}, {g}\"}\n",
        "\n",
        "auth_resp = requests.get(url=base_url, headers = auth_header)\n",
        "print(auth_resp, auth_resp.json())\n",
        "print(auth_resp, auth_resp.json()['welcome_messages'][0]['id'])"
      ],
      "execution_count": null,
      "outputs": [
        {
          "output_type": "stream",
          "text": [
            "<Response [200]> {'welcome_messages': [{'id': '1218054316172251140', 'created_timestamp': '1579241753987', 'message_data': {'text': \"Auto DM: Please don't message me 'yo' or something similar, since I get many DMs - Always try to let me know what's up off the bat. My website https://t.co/mK9awShQ8b might also be able to help you with any questions you have.\", 'entities': {'hashtags': [], 'symbols': [], 'user_mentions': [], 'urls': [{'url': 'https://t.co/mK9awShQ8b', 'expanded_url': 'http://cyclonicproductions.com', 'display_url': 'cyclonicproductions.com', 'indices': [143, 166]}]}}, 'source_app_id': '17298856'}], 'apps': {'17298856': {'id': '17298856', 'name': 'CreateDM', 'url': 'https://www.cyclonicproductions.com'}}}\n",
            "<Response [200]> 1218054316172251140\n"
          ],
          "name": "stdout"
        }
      ]
    },
    {
      "cell_type": "markdown",
      "metadata": {
        "id": "Y1BFlLhJc-Gd"
      },
      "source": [
        "SET NEW WELCOME MESSAGE"
      ]
    },
    {
      "cell_type": "code",
      "metadata": {
        "id": "XYtPDaMYNexu",
        "colab": {
          "base_uri": "https://localhost:8080/",
          "height": 71
        },
        "outputId": "f49fb706-22c3-4ebf-94a4-1653a7f0d244"
      },
      "source": [
        "message = \"Auto DM: Please don't message me 'yo' or something similar, since I get many DMs - Always try to let me know what's up off the bat. My website cyclonicproductions.com might also be able to help you with any questions you have.\"\n",
        "base_url = 'https://api.twitter.com/1.1/direct_messages/welcome_messages/new.json'\n",
        "b = f'{urllib.parse.quote(\"oauth_consumer_key\",\"\")}={urllib.parse.quote(client_key,\"\")}'\n",
        "c = f'{urllib.parse.quote(\"oauth_nonce\",\"\")}={urllib.parse.quote(\"adxfwe\",\"\")}'\n",
        "d = f'{urllib.parse.quote(\"oauth_signature_method\",\"\")}={urllib.parse.quote(\"HMAC-SHA1\",\"\")}'\n",
        "e = f'{urllib.parse.quote(\"oauth_timestamp\",\"\")}={urllib.parse.quote(str(int(time.time())))}'\n",
        "f = f'{urllib.parse.quote(\"oauth_token\",\"\")}={urllib.parse.quote(oauth_key,\"\")}'\n",
        "g = f'{urllib.parse.quote(\"oauth_version\",\"\")}={urllib.parse.quote(\"1.0\",\"\")}'\n",
        "param_string = f'{b}&{c}&{d}&{e}&{f}&{g}'\n",
        "sig_string = f'POST&{urllib.parse.quote(base_url,\"\")}&{urllib.parse.quote(param_string,\"\")}'\n",
        "\n",
        "signing_key = urllib.parse.quote(client_secret,\"\")+'&'+urllib.parse.quote(oauth_token_secret,\"\")\n",
        "\n",
        "oauth_sig = base64.b64encode(hmac.new(signing_key.encode(), sig_string.encode(), hashlib.sha1).digest())\n",
        "\n",
        "a = f'{urllib.parse.quote(\"message_data\",\"\")}=\"{urllib.parse.quote(message,\"\")}\"'\n",
        "b = f'{urllib.parse.quote(\"oauth_consumer_key\",\"\")}=\"{urllib.parse.quote(client_key,\"\")}\"'\n",
        "c = f'{urllib.parse.quote(\"oauth_nonce\",\"\")}=\"{urllib.parse.quote(\"adxfwe\",\"\")}\"'\n",
        "\n",
        "d = f'{urllib.parse.quote(\"oauth_signature_method\",\"\")}=\"{urllib.parse.quote(\"HMAC-SHA1\",\"\")}\"'\n",
        "e = f'{urllib.parse.quote(\"oauth_timestamp\",\"\")}=\"{urllib.parse.quote(str(int(time.time())))}\"'\n",
        "f = f'{urllib.parse.quote(\"oauth_token\",\"\")}=\"{urllib.parse.quote(oauth_key,\"\")}\"'\n",
        "g = f'{urllib.parse.quote(\"oauth_version\",\"\")}=\"{urllib.parse.quote(\"1.0\",\"\")}\"'\n",
        "c1 = f'{urllib.parse.quote(\"oauth_signature\",\"\")}=\"{urllib.parse.quote(oauth_sig,\"\")}\"'\n",
        "auth_header = {'Authorization': f\"OAuth {b}, {c}, {c1}, {d}, {e}, {f}, {g}\", \n",
        "               'Content-Type': 'application/json'}\n",
        "auth_data = json.dumps({\n",
        "    \"welcome_message\": {\"message_data\" : {\"text\": message}}\n",
        "})\n",
        "auth_resp = requests.post(url=base_url, data = auth_data, headers = auth_header)\n",
        "print(auth_resp)\n",
        "print(auth_resp.json())\n",
        "id = auth_resp.json()['welcome_messages'][0]['id']\n",
        "\n",
        "base_url = 'https://api.twitter.com/1.1/direct_messages/welcome_messages/rules/new.json'\n",
        "auth_data = json.dumps({\n",
        "    \"welcome_message_rule\": {\"welcome_message_id\" : id}\n",
        "})\n",
        "auth_resp = requests.post(url=base_url, data = auth_data, headers = auth_header)\n",
        "print(auth_resp)\n",
        "print(auth_resp.json())\n"
      ],
      "execution_count": null,
      "outputs": [
        {
          "output_type": "stream",
          "text": [
            "<Response [200]>\n",
            "{'welcome_message': {'id': '1218054316172251140', 'created_timestamp': '1579241753987', 'message_data': {'text': \"Auto DM: Please don't message me 'yo' or something similar, since I get many DMs - Always try to let me know what's up off the bat. My website https://t.co/mK9awShQ8b might also be able to help you with any questions you have.\", 'entities': {'hashtags': [], 'symbols': [], 'user_mentions': [], 'urls': [{'url': 'https://t.co/mK9awShQ8b', 'expanded_url': 'http://cyclonicproductions.com', 'display_url': 'cyclonicproductions.com', 'indices': [143, 166]}]}}, 'source_app_id': '17298856'}, 'apps': {'17298856': {'id': '17298856', 'name': 'CreateDM', 'url': 'https://www.cyclonicproductions.com'}}}\n"
          ],
          "name": "stdout"
        }
      ]
    }
  ]
}