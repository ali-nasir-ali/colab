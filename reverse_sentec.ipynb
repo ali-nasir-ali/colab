{
  "nbformat": 4,
  "nbformat_minor": 0,
  "metadata": {
    "colab": {
      "name": "Untitled3.ipynb",
      "provenance": [],
      "authorship_tag": "ABX9TyMy5IKB4RrgxUoCXgPI/qwl",
      "include_colab_link": true
    },
    "kernelspec": {
      "name": "python3",
      "display_name": "Python 3"
    }
  },
  "cells": [
    {
      "cell_type": "markdown",
      "metadata": {
        "id": "view-in-github",
        "colab_type": "text"
      },
      "source": [
        "<a href=\"https://colab.research.google.com/github/anasir514/colab/blob/main/reverse_sentec.ipynb\" target=\"_parent\"><img src=\"https://colab.research.google.com/assets/colab-badge.svg\" alt=\"Open In Colab\"/></a>"
      ]
    },
    {
      "cell_type": "code",
      "metadata": {
        "id": "FOko0-oW_09-"
      },
      "source": [
        "def combine_lists(list1, list2):\n",
        "  # Generate a new list containing the elements of list2\n",
        "  # Followed by the elements of list1 in reverse order\n",
        "  new_list = list2\n",
        "  for i in reversed(range(len(list1))):\n",
        "    new_list.append(list1[i])\n",
        "  return new_list\n",
        "\n",
        "Jamies_list = [\"Alice\", \"Cindy\", \"Bobby\", \"Jan\", \"Peter\"]\n",
        "Drews_list = [\"Mike\", \"Carol\", \"Greg\", \"Marcia\"]"
      ],
      "execution_count": 21,
      "outputs": []
    }
  ]
}