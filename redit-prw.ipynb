{
  "nbformat": 4,
  "nbformat_minor": 0,
  "metadata": {
    "colab": {
      "name": "Untitled2.ipynb",
      "provenance": [],
      "authorship_tag": "ABX9TyMpGwrGPu1zcHJSRzaml9wo",
      "include_colab_link": true
    },
    "kernelspec": {
      "name": "python3",
      "display_name": "Python 3"
    }
  },
  "cells": [
    {
      "cell_type": "markdown",
      "metadata": {
        "id": "view-in-github",
        "colab_type": "text"
      },
      "source": [
        "<a href=\"https://colab.research.google.com/github/anasir514/colab/blob/main/redit-prw.ipynb\" target=\"_parent\"><img src=\"https://colab.research.google.com/assets/colab-badge.svg\" alt=\"Open In Colab\"/></a>"
      ]
    },
    {
      "cell_type": "code",
      "metadata": {
        "colab": {
          "base_uri": "https://localhost:8080/"
        },
        "id": "NJy3SnIrYiRE",
        "outputId": "edb21486-0d82-48e2-849c-228fdc359f7e"
      },
      "source": [
        "import praw\n",
        "\n",
        "reddit = praw.Reddit(client_id='clientid',\n",
        "                     client_secret='secret', password='password',\n",
        "                     user_agent='PrawTut', username='username')\n",
        "\n",
        "subreddit = reddit.subreddit('python')\n"
      ],
      "execution_count": 1,
      "outputs": [
        {
          "output_type": "stream",
          "text": [
            "6.0\n"
          ],
          "name": "stdout"
        }
      ]
    }
  ]
}