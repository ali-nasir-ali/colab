{
  "nbformat": 4,
  "nbformat_minor": 0,
  "metadata": {
    "colab": {
      "name": "Untitled10.ipynb",
      "provenance": [],
      "authorship_tag": "ABX9TyMLsivDXDQ/afxeGe8JXhch",
      "include_colab_link": true
    },
    "kernelspec": {
      "name": "python3",
      "display_name": "Python 3"
    }
  },
  "cells": [
    {
      "cell_type": "markdown",
      "metadata": {
        "id": "view-in-github",
        "colab_type": "text"
      },
      "source": [
        "<a href=\"https://colab.research.google.com/github/anasir514/colab/blob/main/time-now.ipynb\" target=\"_parent\"><img src=\"https://colab.research.google.com/assets/colab-badge.svg\" alt=\"Open In Colab\"/></a>"
      ]
    },
    {
      "cell_type": "code",
      "metadata": {
        "colab": {
          "base_uri": "https://localhost:8080/"
        },
        "id": "JBHkmcmDE83c",
        "outputId": "7345bd2c-1f51-42a3-caad-90fc6237f29a"
      },
      "source": [
        "import datetime\n",
        "def now():\n",
        "  return datetime.datetime.now()\n",
        "for n in range(10):\n",
        "   print(now())\n",
        "\n",
        "\n"
      ],
      "execution_count": 18,
      "outputs": [
        {
          "output_type": "stream",
          "text": [
            "2021-01-25 20:05:31.641971\n",
            "2021-01-25 20:05:31.642952\n",
            "2021-01-25 20:05:31.643123\n",
            "2021-01-25 20:05:31.643286\n",
            "2021-01-25 20:05:31.643450\n",
            "2021-01-25 20:05:31.643608\n",
            "2021-01-25 20:05:31.643759\n",
            "2021-01-25 20:05:31.643953\n",
            "2021-01-25 20:05:31.644167\n",
            "2021-01-25 20:05:31.644322\n"
          ],
          "name": "stdout"
        }
      ]
    }
  ]
}