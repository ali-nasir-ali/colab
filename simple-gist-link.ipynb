{
  "nbformat": 4,
  "nbformat_minor": 0,
  "metadata": {
    "colab": {
      "name": "Untitled7.ipynb",
      "provenance": [],
      "authorship_tag": "ABX9TyMF4IUNxfvnEF2dd3h0T1Rq",
      "include_colab_link": true
    },
    "kernelspec": {
      "name": "python3",
      "display_name": "Python 3"
    }
  },
  "cells": [
    {
      "cell_type": "markdown",
      "metadata": {
        "id": "view-in-github",
        "colab_type": "text"
      },
      "source": [
        "<a href=\"https://colab.research.google.com/github/anasir514/colab/blob/main/simple-gist-link.ipynb\" target=\"_parent\"><img src=\"https://colab.research.google.com/assets/colab-badge.svg\" alt=\"Open In Colab\"/></a>"
      ]
    },
    {
      "cell_type": "code",
      "metadata": {
        "id": "l33p49WSexOd"
      },
      "source": [
        "https://gist.githubusercontent.com/anasir514/a74833596df99c4cb9baf484874c7cf8/raw/21d80aa1890251e9bf1bdff15d3717e959425ce2/index.html"
      ],
      "execution_count": null,
      "outputs": []
    }
  ]
}