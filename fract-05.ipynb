{
  "nbformat": 4,
  "nbformat_minor": 0,
  "metadata": {
    "colab": {
      "name": "Untitled1.ipynb",
      "provenance": [],
      "authorship_tag": "ABX9TyM5A++60e1taJexVc3jne/J",
      "include_colab_link": true
    },
    "kernelspec": {
      "name": "python3",
      "display_name": "Python 3"
    }
  },
  "cells": [
    {
      "cell_type": "markdown",
      "metadata": {
        "id": "view-in-github",
        "colab_type": "text"
      },
      "source": [
        "<a href=\"https://colab.research.google.com/github/anasir514/colab/blob/main/fract-05.ipynb\" target=\"_parent\"><img src=\"https://colab.research.google.com/assets/colab-badge.svg\" alt=\"Open In Colab\"/></a>"
      ]
    },
    {
      "cell_type": "code",
      "metadata": {
        "colab": {
          "base_uri": "https://localhost:8080/"
        },
        "id": "lYCeU-1Joloj",
        "outputId": "10c20ee1-ed17-4cae-853e-0dcc569c785e"
      },
      "source": [
        "def fractional_part(numerator, denominator):\n",
        "\t# Operate with numerator and denominator to \n",
        "# keep just the fractional part of the quotient\n",
        "   if numerator==0 or denominator==0:\n",
        "\t   return 0\n",
        "   return (5/2)\n",
        "      \n",
        "print(fractional_part(5, 5)) # Should be 0\n",
        "print(fractional_part(5, 4)) # Should be 0.25\n",
        "print(fractional_part(5, 3)) # Should be 0.66...\n",
        "print(fractional_part(5, 2)) # Should be 0.5\n",
        "print(fractional_part(5, 0)) # Should be 0\n",
        "print(fractional_part(0, 5)) # Should be 0"
      ],
      "execution_count": 10,
      "outputs": [
        {
          "output_type": "stream",
          "text": [
            "2.5\n",
            "2.5\n",
            "2.5\n",
            "2.5\n",
            "0\n",
            "0\n"
          ],
          "name": "stdout"
        }
      ]
    }
  ]
}