{
  "nbformat": 4,
  "nbformat_minor": 0,
  "metadata": {
    "colab": {
      "name": "Untitled3.ipynb",
      "provenance": [],
      "authorship_tag": "ABX9TyPgHtgox6rjeskPlVwojQQD",
      "include_colab_link": true
    },
    "kernelspec": {
      "name": "python3",
      "display_name": "Python 3"
    }
  },
  "cells": [
    {
      "cell_type": "markdown",
      "metadata": {
        "id": "view-in-github",
        "colab_type": "text"
      },
      "source": [
        "<a href=\"https://colab.research.google.com/github/anasir514/colab/blob/main/dictio_02.ipynb\" target=\"_parent\"><img src=\"https://colab.research.google.com/assets/colab-badge.svg\" alt=\"Open In Colab\"/></a>"
      ]
    },
    {
      "cell_type": "code",
      "metadata": {
        "colab": {
          "base_uri": "https://localhost:8080/"
        },
        "id": "FOko0-oW_09-",
        "outputId": "808d228b-2778-400a-c94c-f56d43917179"
      },
      "source": [
        "toc = {\"Introduction\":1, \"Chapter 1\":4, \"Chapter 2\":11, \"Chapter 3\":25, \"Chapter 4\":30}\n",
        "toc[\"Epilogue\"] = 39 # Epilogue starts on page 39\n",
        "toc[\"Chapter 3\"] = 24 # Chapter 3 now starts on page 24\n",
        "print(toc) # What are the current contents?\n",
        "print(\"Chapter 5\" in toc) # Is there a Chapter 5?\n"
      ],
      "execution_count": 11,
      "outputs": [
        {
          "output_type": "stream",
          "text": [
            "Ken is 30 years old and works as Chef.\n",
            "Pat is 35 years old and works as Lawyer.\n",
            "Amanda is 25 years old and works as Engineer.\n"
          ],
          "name": "stdout"
        }
      ]
    }
  ]
}