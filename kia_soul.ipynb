{
  "nbformat": 4,
  "nbformat_minor": 0,
  "metadata": {
    "colab": {
      "name": "Untitled3.ipynb",
      "provenance": [],
      "authorship_tag": "ABX9TyPU8G/wnVP7IapBs0K0HIOT",
      "include_colab_link": true
    },
    "kernelspec": {
      "name": "python3",
      "display_name": "Python 3"
    }
  },
  "cells": [
    {
      "cell_type": "markdown",
      "metadata": {
        "id": "view-in-github",
        "colab_type": "text"
      },
      "source": [
        "<a href=\"https://colab.research.google.com/github/anasir514/colab/blob/main/kia_soul.ipynb\" target=\"_parent\"><img src=\"https://colab.research.google.com/assets/colab-badge.svg\" alt=\"Open In Colab\"/></a>"
      ]
    },
    {
      "cell_type": "code",
      "metadata": {
        "colab": {
          "base_uri": "https://localhost:8080/"
        },
        "id": "FOko0-oW_09-",
        "outputId": "b611a7c3-13b7-4453-a8ea-7ba5dc86bcfc"
      },
      "source": [
        "def car_listing(car_prices):\n",
        "    result = \"\"\n",
        "    for keys, values in car_prices.items():\n",
        "        result += \"{} costs {} dollars\".format(keys, values) + \"\\n\"\n",
        "    return result\n",
        "\n",
        "print(car_listing({\"Kia Soul\":19000, \"Lamborghini Diablo\":55000, \"Ford Fiesta\":13000,\"Toyota Prius\":24000}))\n"
      ],
      "execution_count": 23,
      "outputs": [
        {
          "output_type": "stream",
          "text": [
            "Kia Soul costs 19000 dollars\n",
            "Lamborghini Diablo costs 55000 dollars\n",
            "Ford Fiesta costs 13000 dollars\n",
            "Toyota Prius costs 24000 dollars\n",
            "\n"
          ],
          "name": "stdout"
        }
      ]
    }
  ]
}