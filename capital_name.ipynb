{
  "nbformat": 4,
  "nbformat_minor": 0,
  "metadata": {
    "colab": {
      "name": "Untitled3.ipynb",
      "provenance": [],
      "authorship_tag": "ABX9TyMVi2ywK9mnuawUF9OU2kme",
      "include_colab_link": true
    },
    "kernelspec": {
      "name": "python3",
      "display_name": "Python 3"
    }
  },
  "cells": [
    {
      "cell_type": "markdown",
      "metadata": {
        "id": "view-in-github",
        "colab_type": "text"
      },
      "source": [
        "<a href=\"https://colab.research.google.com/github/anasir514/colab/blob/main/capital_name.ipynb\" target=\"_parent\"><img src=\"https://colab.research.google.com/assets/colab-badge.svg\" alt=\"Open In Colab\"/></a>"
      ]
    },
    {
      "cell_type": "code",
      "metadata": {
        "colab": {
          "base_uri": "https://localhost:8080/"
        },
        "id": "FOko0-oW_09-",
        "outputId": "c428704d-f2d7-4c9d-e869-818acb48ee89"
      },
      "source": [
        "def highlight_word(sentence, word):\n",
        "    return(sentence.replace(word,word.upper()))\n",
        "\n",
        "print(highlight_word(\"Have a nice day\", \"nice\"))\n",
        "print(highlight_word(\"Shhh, don't be so loud!\", \"loud\"))\n",
        "print(highlight_word(\"Automating with Python is fun\", \"fun\"))"
      ],
      "execution_count": 20,
      "outputs": [
        {
          "output_type": "stream",
          "text": [
            "Have a NICE day\n",
            "Shhh, don't be so LOUD!\n",
            "Automating with Python is FUN\n"
          ],
          "name": "stdout"
        }
      ]
    }
  ]
}