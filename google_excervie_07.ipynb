{
  "nbformat": 4,
  "nbformat_minor": 0,
  "metadata": {
    "colab": {
      "name": "Untitled11.ipynb",
      "provenance": [],
      "authorship_tag": "ABX9TyPvJwkB8cHkaU5ixlCoZh1E",
      "include_colab_link": true
    },
    "kernelspec": {
      "name": "python3",
      "display_name": "Python 3"
    }
  },
  "cells": [
    {
      "cell_type": "markdown",
      "metadata": {
        "id": "view-in-github",
        "colab_type": "text"
      },
      "source": [
        "<a href=\"https://colab.research.google.com/github/anasir514/colab/blob/main/google_excervie_07.ipynb\" target=\"_parent\"><img src=\"https://colab.research.google.com/assets/colab-badge.svg\" alt=\"Open In Colab\"/></a>"
      ]
    },
    {
      "cell_type": "code",
      "metadata": {
        "id": "FkXZECFI-Nqn"
      },
      "source": [
        "def get_event_date(event):\n",
        "  return event.date\n",
        "\n",
        "def current_users(events):\n",
        "  events.sort(key=get_event_date)\n",
        "  machines = {}\n",
        "  for event in events:\n",
        "    if event.machine not in machines:\n",
        "      machines[event.machine]  = set()\n",
        "    if event.type = \"login\":\n",
        "      machines[event.machine].add(event.user)\n",
        "    elif event.type = \"logout\":\n",
        "      machines[event.machine].remove(event.user)    \n",
        "  return machines \n",
        "\n",
        "def generate_report(machines):\n",
        "  for machine, users in machines.items():\n",
        "    if len(users) > 0:\n",
        "      user_list = \", \".join(users)\n",
        "      print(\"{}: {}\".format(machine, user_list))\n",
        "      \n"
      ],
      "execution_count": null,
      "outputs": []
    }
  ]
}