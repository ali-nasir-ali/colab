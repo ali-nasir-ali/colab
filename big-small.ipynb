{
  "nbformat": 4,
  "nbformat_minor": 0,
  "metadata": {
    "colab": {
      "name": "Untitled1.ipynb",
      "provenance": [],
      "authorship_tag": "ABX9TyO4Jvf08tCxXoEJj09XtMWR",
      "include_colab_link": true
    },
    "kernelspec": {
      "name": "python3",
      "display_name": "Python 3"
    }
  },
  "cells": [
    {
      "cell_type": "markdown",
      "metadata": {
        "id": "view-in-github",
        "colab_type": "text"
      },
      "source": [
        "<a href=\"https://colab.research.google.com/github/anasir514/colab/blob/main/big-small.ipynb\" target=\"_parent\"><img src=\"https://colab.research.google.com/assets/colab-badge.svg\" alt=\"Open In Colab\"/></a>"
      ]
    },
    {
      "cell_type": "code",
      "metadata": {
        "colab": {
          "base_uri": "https://localhost:8080/"
        },
        "id": "lYCeU-1Joloj",
        "outputId": "5afd2630-99c3-4ada-8def-d6b4efce41c8"
      },
      "source": [
        "def Number(number):   \n",
        "   if number > 11: \n",
        "     print(0)\n",
        "   elif number != 10:\n",
        "     print(1)\n",
        "   elif number >= 20 or number < 12:\n",
        "     print(2)\n",
        "   else:\n",
        "     print(3)\n",
        "\n",
        "Number(10)  "
      ],
      "execution_count": 9,
      "outputs": [
        {
          "output_type": "stream",
          "text": [
            "2\n"
          ],
          "name": "stdout"
        }
      ]
    }
  ]
}