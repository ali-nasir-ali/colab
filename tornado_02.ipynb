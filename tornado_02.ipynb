{
  "nbformat": 4,
  "nbformat_minor": 0,
  "metadata": {
    "colab": {
      "name": "Untitled12.ipynb",
      "provenance": [],
      "authorship_tag": "ABX9TyPfxwCqZ2aCvQ9ifUdBl7Fw",
      "include_colab_link": true
    },
    "kernelspec": {
      "name": "python3",
      "display_name": "Python 3"
    }
  },
  "cells": [
    {
      "cell_type": "markdown",
      "metadata": {
        "id": "view-in-github",
        "colab_type": "text"
      },
      "source": [
        "<a href=\"https://colab.research.google.com/github/anasir514/colab/blob/main/tornado_02.ipynb\" target=\"_parent\"><img src=\"https://colab.research.google.com/assets/colab-badge.svg\" alt=\"Open In Colab\"/></a>"
      ]
    },
    {
      "cell_type": "code",
      "metadata": {
        "id": "cirRUuC7Dm3K"
      },
      "source": [
        "import tornado.web\n",
        "import tornado.ioloop\n",
        "import sys\n",
        "import os\n",
        "\n",
        "class basicRequestHanlder(tornado.web.RequestHandler):\n",
        "   def get(self):\n",
        "     self.write(f\"served from  {os.getpid()}\")\n",
        "\n",
        "if __name__ == \"__main__\":\n",
        "   app = tornado.web.Application([\n",
        "        (r\"/basic\",basicRequestHanlder)\n",
        "   ]) \n",
        "\n",
        "   port = 8882\n",
        "   if (sys.argv.__len__() > 1):\n",
        "      port = sys.argv[1]\n",
        "\n",
        "   app.listen(port)\n",
        "   print(f\"application is ready on port {port}\")\n",
        "   tornado.ioloop.IOLoop.current().start()"
      ],
      "execution_count": null,
      "outputs": []
    }
  ]
}