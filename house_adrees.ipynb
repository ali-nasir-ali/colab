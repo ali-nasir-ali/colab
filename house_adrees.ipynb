{
  "nbformat": 4,
  "nbformat_minor": 0,
  "metadata": {
    "colab": {
      "name": "Untitled3.ipynb",
      "provenance": [],
      "authorship_tag": "ABX9TyNEp8SePof3tjOevVltd9h3",
      "include_colab_link": true
    },
    "kernelspec": {
      "name": "python3",
      "display_name": "Python 3"
    }
  },
  "cells": [
    {
      "cell_type": "markdown",
      "metadata": {
        "id": "view-in-github",
        "colab_type": "text"
      },
      "source": [
        "<a href=\"https://colab.research.google.com/github/anasir514/colab/blob/main/house_adrees.ipynb\" target=\"_parent\"><img src=\"https://colab.research.google.com/assets/colab-badge.svg\" alt=\"Open In Colab\"/></a>"
      ]
    },
    {
      "cell_type": "code",
      "metadata": {
        "colab": {
          "base_uri": "https://localhost:8080/"
        },
        "id": "FOko0-oW_09-",
        "outputId": "44101f9c-045c-4f74-a12a-5a58cab53a01"
      },
      "source": [
        "\n",
        "\n",
        "def format_address(address_string):\n",
        "  # Declare variables\n",
        "  number = ''\n",
        "  street = ''\n",
        "  # Separate the address string into parts\n",
        "  address_string = address_string.split()\n",
        "  # Traverse through the address parts\n",
        "  for add in address_string:\n",
        "      # Determine if the address part is the\n",
        "      # house number or part of the street name\n",
        "      if add.isdigit():\n",
        "          number += add \n",
        "      # Does anything else need to be done \n",
        "      # before returning the result?\n",
        "      else :\n",
        "          street += \" \" + add\n",
        "      # Return the formatted string  \n",
        "      return \"house number {} on street named {}\".format(number, street)\n",
        "\n",
        "print(format_address(\"123 Main Street\"))\n",
        "# Should print: \"house number 123 on street named Main Street\"\n",
        "\n",
        "print(format_address(\"1001 1st Ave\"))\n",
        "# Should print: \"house number 1001 on street named 1st Ave\"\n",
        "\n",
        "print(format_address(\"55 North Center Drive\"))\n",
        "# Should print \"house number 55 on street named North Center Drive\"\n",
        "\n"
      ],
      "execution_count": 19,
      "outputs": [
        {
          "output_type": "stream",
          "text": [
            "house number 123 on street named \n",
            "house number 1001 on street named \n",
            "house number 55 on street named \n"
          ],
          "name": "stdout"
        }
      ]
    }
  ]
}