{
  "nbformat": 4,
  "nbformat_minor": 0,
  "metadata": {
    "colab": {
      "name": "Untitled1.ipynb",
      "provenance": [],
      "authorship_tag": "ABX9TyPifF6XMXOw1NLlDXC6mFWi",
      "include_colab_link": true
    },
    "kernelspec": {
      "name": "python3",
      "display_name": "Python 3"
    }
  },
  "cells": [
    {
      "cell_type": "markdown",
      "metadata": {
        "id": "view-in-github",
        "colab_type": "text"
      },
      "source": [
        "<a href=\"https://colab.research.google.com/github/anasir514/colab/blob/main/lond-sen.ipynb\" target=\"_parent\"><img src=\"https://colab.research.google.com/assets/colab-badge.svg\" alt=\"Open In Colab\"/></a>"
      ]
    },
    {
      "cell_type": "code",
      "metadata": {
        "colab": {
          "base_uri": "https://localhost:8080/"
        },
        "id": "lYCeU-1Joloj",
        "outputId": "3a935e2a-4fd9-440a-f8ce-5ffc623ec39f"
      },
      "source": [
        "def format_name(first_name, last_name):\n",
        "\t# code goes here\n",
        "\tif first_name==\"\" or last_name==\"\":\n",
        "\t\t string=''\n",
        "\telif last_name==\"\":\t\n",
        "\t\tstring='Name: ',last_name\n",
        "\telif first_name==\"\":\n",
        "\t\tstring='Name: ',first_name\n",
        "\telse:\n",
        "\t\tstring=last_name, first_name\n",
        "\treturn string \n",
        "\n",
        "print(format_name(\"Ernest\", \"Hemingway\"))\n",
        "# Should return the string \"Name: Hemingway, Ernest\"\n",
        "\n",
        "print(format_name(\"\", \"Madonna\"))\n",
        "# Should return the string \"Name: Madonna\"\n",
        "\n",
        "print(format_name(\"Voltaire\", \"\"))\n",
        "# Should return the string \"Name: Voltaire\"\n",
        "\n",
        "print(format_name(\"\", \"\"))\n",
        "# Should return an empty string"
      ],
      "execution_count": 1,
      "outputs": [
        {
          "output_type": "stream",
          "text": [
            "('Hemingway', 'Ernest')\n",
            "\n",
            "\n",
            "\n"
          ],
          "name": "stdout"
        }
      ]
    }
  ]
}