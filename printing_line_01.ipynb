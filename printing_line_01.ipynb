{
  "nbformat": 4,
  "nbformat_minor": 0,
  "metadata": {
    "colab": {
      "name": "printing-float-02.ipynb",
      "provenance": [],
      "authorship_tag": "ABX9TyPI14Stncwq3B0QQ1RKP6sR",
      "include_colab_link": true
    },
    "kernelspec": {
      "name": "python3",
      "display_name": "Python 3"
    }
  },
  "cells": [
    {
      "cell_type": "markdown",
      "metadata": {
        "id": "view-in-github",
        "colab_type": "text"
      },
      "source": [
        "<a href=\"https://colab.research.google.com/github/anasir514/colab/blob/main/printing_line_01.ipynb\" target=\"_parent\"><img src=\"https://colab.research.google.com/assets/colab-badge.svg\" alt=\"Open In Colab\"/></a>"
      ]
    },
    {
      "cell_type": "code",
      "metadata": {
        "colab": {
          "base_uri": "https://localhost:8080/"
        },
        "id": "atcqoS_Yl9Dj",
        "outputId": "ebbc769f-1c32-4472-d212-becde5652005"
      },
      "source": [
        "def line():\n",
        "     print('----------------------------------------')\n",
        "        \n",
        "line()\n",
        "print('VERSION: 1.0.1')\n",
        "line()\n",
        "# or\n",
        "print('-' * 40)\n",
        "print('VERSION: 1.0.1')\n",
        "print('-' * 40)"
      ],
      "execution_count": 16,
      "outputs": [
        {
          "output_type": "stream",
          "text": [
            "-----------------------------------\n",
            "VERSION: 1.0.1\n",
            "-----------------------------------\n"
          ],
          "name": "stdout"
        }
      ]
    }
  ]
}