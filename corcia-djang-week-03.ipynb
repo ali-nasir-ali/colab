{
  "nbformat": 4,
  "nbformat_minor": 0,
  "metadata": {
    "colab": {
      "name": "Untitled0.ipynb",
      "provenance": [],
      "authorship_tag": "ABX9TyNztPwLEqGrdOmRpg2o48ov",
      "include_colab_link": true
    },
    "kernelspec": {
      "name": "python3",
      "display_name": "Python 3"
    }
  },
  "cells": [
    {
      "cell_type": "markdown",
      "metadata": {
        "id": "view-in-github",
        "colab_type": "text"
      },
      "source": [
        "<a href=\"https://colab.research.google.com/github/anasir514/colab/blob/main/corcia-djang-week-03.ipynb\" target=\"_parent\"><img src=\"https://colab.research.google.com/assets/colab-badge.svg\" alt=\"Open In Colab\"/></a>"
      ]
    },
    {
      "cell_type": "code",
      "metadata": {
        "colab": {
          "base_uri": "https://localhost:8080/",
          "height": 132
        },
        "id": "EzY3-qmNvVw9",
        "outputId": "b9e83193-7f84-478e-b430-527fe7dcdb9e"
      },
      "source": [
        "<!DOCTYPE html>\n",
        "<html lang=\"en\">\n",
        "  <head>\n",
        "    <meta http-equiv=\"Content-type\" content=\"text/html; charset=utf-8\">\n",
        "    <meta http-equiv=\"Content-Language\" content=\"en-us\">\n",
        "    <meta name=\"robots\" content=\"NONE,NOARCHIVE\">\n",
        "    <title>nasir ali d6368e</title>\n",
        "  </head>\n",
        "  <body>\n",
        "<h1>Hello world</h1>\n",
        "    <div>\n",
        "        <strong>Hello world</strong>\n",
        "    </div>\n",
        "    <em>Hello world</em>\n",
        "    <ul>\n",
        "        <li> 1 something goes here </li>\n",
        "        <li> 2 something goes here </li>\n",
        "        <li> 3 something goes here </li>\n",
        "    </ul>\n",
        "    <span>Hello world</span> <br>\n",
        "    <a href=\"http://pip0py0dragon.pythonanywhere.com/site/\">profile</a> <br> <!-- a comment-->\n",
        "    <a href=\"http://pip0py0dragon.pythonanywhere.com/site/\">profile</a> <br> <!-- a comment-->\n",
        "    <a href=\"http://pip0py0dragon.pythonanywhere.com/site/\">profile</a> <br> <!-- a comment-->\n",
        "</body>\n",
        "</html>\n",
        "\n",
        "<!DOCTYPE html>\n",
        "<html>\n",
        "<head>\n",
        "  <title>Jane Instructor 4c56ff</title>\n",
        "  <meta charset=\"UTF-8\">\n",
        "</head>\n",
        "<body>\n",
        "...\n",
        "</body>\n",
        "</html>\n"
      ],
      "execution_count": null,
      "outputs": [
        {
          "output_type": "error",
          "ename": "SyntaxError",
          "evalue": "ignored",
          "traceback": [
            "\u001b[0;36m  File \u001b[0;32m\"<ipython-input-1-3363bf21e5b9>\"\u001b[0;36m, line \u001b[0;32m1\u001b[0m\n\u001b[0;31m    <!DOCTYPE html>\u001b[0m\n\u001b[0m    ^\u001b[0m\n\u001b[0;31mSyntaxError\u001b[0m\u001b[0;31m:\u001b[0m invalid syntax\n"
          ]
        }
      ]
    }
  ]
}