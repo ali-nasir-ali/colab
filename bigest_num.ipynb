{
  "nbformat": 4,
  "nbformat_minor": 0,
  "metadata": {
    "colab": {
      "name": "Untitled5.ipynb",
      "provenance": [],
      "authorship_tag": "ABX9TyN2zvIwuQOq6CCMB/Q0Z0G1",
      "include_colab_link": true
    },
    "kernelspec": {
      "name": "python3",
      "display_name": "Python 3"
    }
  },
  "cells": [
    {
      "cell_type": "markdown",
      "metadata": {
        "id": "view-in-github",
        "colab_type": "text"
      },
      "source": [
        "<a href=\"https://colab.research.google.com/github/anasir514/colab/blob/main/bigest_num.ipynb\" target=\"_parent\"><img src=\"https://colab.research.google.com/assets/colab-badge.svg\" alt=\"Open In Colab\"/></a>"
      ]
    },
    {
      "cell_type": "code",
      "metadata": {
        "id": "W9w1cBIWxM4v"
      },
      "source": [
        "num = 0\n",
        "largest = -1\n",
        "smallest = None\n",
        "while True:\n",
        "    num = input(\"Enter a number: \")\n",
        "    if num == \"done\" :\n",
        "        break\n",
        "    try :\n",
        "        numb = int(num)\n",
        "    except :\n",
        "        print('Invalid input')\n",
        "    if smallest is None :\n",
        "        smallest = numb\n",
        "    elif numb < smallest :\n",
        "        smallest = numb\n",
        "    elif numb > largest :\n",
        "        largest = numb\n",
        "print(\"Maximum is\", largest)\n",
        "print(\"Minimum is\", smallest)"
      ],
      "execution_count": null,
      "outputs": []
    }
  ]
}