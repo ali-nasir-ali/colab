{
  "nbformat": 4,
  "nbformat_minor": 0,
  "metadata": {
    "colab": {
      "name": "Untitled3.ipynb",
      "provenance": [],
      "authorship_tag": "ABX9TyPvBZQnKvd5mtbbdrkjjFjD",
      "include_colab_link": true
    },
    "kernelspec": {
      "name": "python3",
      "display_name": "Python 3"
    }
  },
  "cells": [
    {
      "cell_type": "markdown",
      "metadata": {
        "id": "view-in-github",
        "colab_type": "text"
      },
      "source": [
        "<a href=\"https://colab.research.google.com/github/anasir514/colab/blob/main/linex_permision.ipynb\" target=\"_parent\"><img src=\"https://colab.research.google.com/assets/colab-badge.svg\" alt=\"Open In Colab\"/></a>"
      ]
    },
    {
      "cell_type": "code",
      "metadata": {
        "colab": {
          "base_uri": "https://localhost:8080/"
        },
        "id": "FOko0-oW_09-",
        "outputId": "3f13e8be-ea9f-480a-88c2-57e35064f24c"
      },
      "source": [
        "def octal_to_string(octal):\n",
        " result = \"\"\n",
        " value_letters = [(4,\"r\"),(2,\"w\"),(1,\"x\")]\n",
        " # Iterate over each of the digits in octal\n",
        " for i in [int(n) for n in str(octal)]:\n",
        "    # Check for each of the permissions values\n",
        "    for value, letter in value_letters:\n",
        "        if i >= value:\n",
        "            result += letter\n",
        "            i -= value\n",
        "        else:\n",
        "            result += '-'\n",
        " return result\n",
        "\n",
        "print(octal_to_string(755))\n",
        "print(octal_to_string(644))\n",
        "print(octal_to_string(750))\n",
        "print(octal_to_string(600))\n"
      ],
      "execution_count": 6,
      "outputs": [
        {
          "output_type": "stream",
          "text": [
            "rwxr-xr-x\n",
            "rw-r--r--\n",
            "rwxr-x---\n",
            "rw-------\n"
          ],
          "name": "stdout"
        }
      ]
    }
  ]
}