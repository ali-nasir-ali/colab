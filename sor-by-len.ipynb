{
  "nbformat": 4,
  "nbformat_minor": 0,
  "metadata": {
    "colab": {
      "name": "Untitled10.ipynb",
      "provenance": [],
      "authorship_tag": "ABX9TyO8wsF+u0ICR2oo91JsA+Ov",
      "include_colab_link": true
    },
    "kernelspec": {
      "name": "python3",
      "display_name": "Python 3"
    }
  },
  "cells": [
    {
      "cell_type": "markdown",
      "metadata": {
        "id": "view-in-github",
        "colab_type": "text"
      },
      "source": [
        "<a href=\"https://colab.research.google.com/github/anasir514/colab/blob/main/sor-by-len.ipynb\" target=\"_parent\"><img src=\"https://colab.research.google.com/assets/colab-badge.svg\" alt=\"Open In Colab\"/></a>"
      ]
    },
    {
      "cell_type": "code",
      "metadata": {
        "colab": {
          "base_uri": "https://localhost:8080/"
        },
        "id": "JBHkmcmDE83c",
        "outputId": "3d2be8ee-f7e5-4637-8225-b4511b8b6764"
      },
      "source": [
        "names=[\"noe\",\"tholllls\",\"joshn\",\"geaaag\"]\n",
        "print(names)\n",
        "names.sort()\n",
        "print(names)\n",
        "\n",
        "print(sorted(names,key=len))\n",
        "num=[22,413,46,13,46,57,24,24]\n",
        "print(num)\n",
        "num.sort()\n",
        "print(num)"
      ],
      "execution_count": 51,
      "outputs": [
        {
          "output_type": "stream",
          "text": [
            "['noe', 'tholllls', 'joshn', 'geaaag']\n",
            "['geaaag', 'joshn', 'noe', 'tholllls']\n",
            "['noe', 'joshn', 'geaaag', 'tholllls']\n",
            "[22, 413, 46, 13, 46, 57, 24, 24]\n",
            "[13, 22, 24, 24, 46, 46, 57, 413]\n"
          ],
          "name": "stdout"
        }
      ]
    }
  ]
}