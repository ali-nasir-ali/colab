{
  "nbformat": 4,
  "nbformat_minor": 0,
  "metadata": {
    "colab": {
      "name": "cal-coefisnt-01.ipynb",
      "provenance": [],
      "authorship_tag": "ABX9TyOLDJDPwBbwBkdzQfqZcCKY",
      "include_colab_link": true
    },
    "kernelspec": {
      "name": "python3",
      "display_name": "Python 3"
    }
  },
  "cells": [
    {
      "cell_type": "markdown",
      "metadata": {
        "id": "view-in-github",
        "colab_type": "text"
      },
      "source": [
        "<a href=\"https://colab.research.google.com/github/anasir514/colab/blob/main/cal_coefisnt_01.ipynb\" target=\"_parent\"><img src=\"https://colab.research.google.com/assets/colab-badge.svg\" alt=\"Open In Colab\"/></a>"
      ]
    },
    {
      "cell_type": "code",
      "metadata": {
        "colab": {
          "base_uri": "https://localhost:8080/"
        },
        "id": "atcqoS_Yl9Dj",
        "outputId": "6cf48152-b507-4cef-f761-eaf87238a44a"
      },
      "source": [
        "x = int(input('enter x = '))\n",
        "print(3*(x**2)+4*x+1)  \n",
        "#print(x**2)"
      ],
      "execution_count": 9,
      "outputs": [
        {
          "output_type": "stream",
          "text": [
            "enter x = 2\n",
            "21\n"
          ],
          "name": "stdout"
        }
      ]
    }
  ]
}