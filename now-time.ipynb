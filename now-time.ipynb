{
  "nbformat": 4,
  "nbformat_minor": 0,
  "metadata": {
    "colab": {
      "name": "Untitled10.ipynb",
      "provenance": [],
      "authorship_tag": "ABX9TyPbtAVsMJWPo4/rdGslJLbB",
      "include_colab_link": true
    },
    "kernelspec": {
      "name": "python3",
      "display_name": "Python 3"
    }
  },
  "cells": [
    {
      "cell_type": "markdown",
      "metadata": {
        "id": "view-in-github",
        "colab_type": "text"
      },
      "source": [
        "<a href=\"https://colab.research.google.com/github/anasir514/colab/blob/main/now-time.ipynb\" target=\"_parent\"><img src=\"https://colab.research.google.com/assets/colab-badge.svg\" alt=\"Open In Colab\"/></a>"
      ]
    },
    {
      "cell_type": "code",
      "metadata": {
        "colab": {
          "base_uri": "https://localhost:8080/"
        },
        "id": "JBHkmcmDE83c",
        "outputId": "79565ec2-a48f-40f3-9cdb-cfa171b652fa"
      },
      "source": [
        "import datetime\n",
        "def now():\n",
        "  return datetime.datetime.now()\n",
        "print(now())\n",
        "print(now())\n",
        "print(now())\n",
        "print(now())\n",
        "print(now())\n",
        "\n"
      ],
      "execution_count": 10,
      "outputs": [
        {
          "output_type": "stream",
          "text": [
            "2021-01-25 20:03:00.801395\n",
            "2021-01-25 20:03:00.801879\n",
            "2021-01-25 20:03:00.802615\n",
            "2021-01-25 20:03:00.802924\n",
            "2021-01-25 20:03:00.803191\n"
          ],
          "name": "stdout"
        }
      ]
    }
  ]
}