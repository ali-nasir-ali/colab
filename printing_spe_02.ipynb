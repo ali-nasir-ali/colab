{
  "nbformat": 4,
  "nbformat_minor": 0,
  "metadata": {
    "colab": {
      "name": "printing-float-02.ipynb",
      "provenance": [],
      "authorship_tag": "ABX9TyOTbXMOQECE1bvK304gOsYr",
      "include_colab_link": true
    },
    "kernelspec": {
      "name": "python3",
      "display_name": "Python 3"
    }
  },
  "cells": [
    {
      "cell_type": "markdown",
      "metadata": {
        "id": "view-in-github",
        "colab_type": "text"
      },
      "source": [
        "<a href=\"https://colab.research.google.com/github/anasir514/colab/blob/main/printing_spe_02.ipynb\" target=\"_parent\"><img src=\"https://colab.research.google.com/assets/colab-badge.svg\" alt=\"Open In Colab\"/></a>"
      ]
    },
    {
      "cell_type": "code",
      "metadata": {
        "colab": {
          "base_uri": "https://localhost:8080/"
        },
        "id": "atcqoS_Yl9Dj",
        "outputId": "14ee769c-70d2-4f59-b3d5-e34ec5e090b1"
      },
      "source": [
        "#print('summer','time','holiday','sep='#')\n",
        "\n",
        "#print('Property tax: $', format(tax, ',.2f'), sep='')\n",
        "print('summer', 'time', 'holiday', sep='#')"
      ],
      "execution_count": 25,
      "outputs": [
        {
          "output_type": "stream",
          "text": [
            "summer#time#holiday\n"
          ],
          "name": "stdout"
        }
      ]
    }
  ]
}