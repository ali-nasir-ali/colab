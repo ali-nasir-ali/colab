{
  "nbformat": 4,
  "nbformat_minor": 0,
  "metadata": {
    "colab": {
      "name": "Untitled10.ipynb",
      "provenance": [],
      "authorship_tag": "ABX9TyOoPEKa45Tb4F4SHCkaERV5",
      "include_colab_link": true
    },
    "kernelspec": {
      "name": "python3",
      "display_name": "Python 3"
    }
  },
  "cells": [
    {
      "cell_type": "markdown",
      "metadata": {
        "id": "view-in-github",
        "colab_type": "text"
      },
      "source": [
        "<a href=\"https://colab.research.google.com/github/anasir514/colab/blob/main/counting-stock.ipynb\" target=\"_parent\"><img src=\"https://colab.research.google.com/assets/colab-badge.svg\" alt=\"Open In Colab\"/></a>"
      ]
    },
    {
      "cell_type": "code",
      "metadata": {
        "id": "JBHkmcmDE83c"
      },
      "source": [
        "class Clothing:\n",
        "  stock={ 'name': [],'material' :[], 'amount':[]}\n",
        "  def __init__(self,name):\n",
        "    material = \"\"\n",
        "    self.name = name\n",
        "  def add_item(self, name, material, amount):\n",
        "    Clothing.stock['name'].append(self.name)\n",
        "    Clothing.stock['material'].append(self.material)\n",
        "    Clothing.stock['amount'].append(amount)\n",
        "  def Stock_by_Material(self, material):\n",
        "    count=0\n",
        "    n=0\n",
        "    for item in Clothing.stock['material']:\n",
        "      if item == material:\n",
        "        count += Clothing.stock['amount'][n]\n",
        "        n+=1\n",
        "    return count\n",
        "\n",
        "class shirt(Clothing):\n",
        "  material=\"Cotton\"\n",
        "class pants(Clothing):\n",
        "  material=\"Cotton\"\n",
        "  \n",
        "polo = shirt(\"Polo\")\n",
        "sweatpants = pants(\"Sweatpants\")\n",
        "polo.add_item(polo.name, polo.material, 4)\n",
        "sweatpants.add_item(sweatpants.name, sweatpants.material, 6)\n",
        "current_stock = polo.Stock_by_Material(\"Cotton\")\n",
        "print(current_stock)"
      ],
      "execution_count": null,
      "outputs": []
    }
  ]
}