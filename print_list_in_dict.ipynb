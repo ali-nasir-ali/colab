{
  "nbformat": 4,
  "nbformat_minor": 0,
  "metadata": {
    "colab": {
      "name": "Untitled4.ipynb",
      "provenance": [],
      "authorship_tag": "ABX9TyMxivVRqVd1X9kB9aT64RqU",
      "include_colab_link": true
    },
    "kernelspec": {
      "name": "python3",
      "display_name": "Python 3"
    }
  },
  "cells": [
    {
      "cell_type": "markdown",
      "metadata": {
        "id": "view-in-github",
        "colab_type": "text"
      },
      "source": [
        "<a href=\"https://colab.research.google.com/github/anasir514/colab/blob/main/print_list_in_dict.ipynb\" target=\"_parent\"><img src=\"https://colab.research.google.com/assets/colab-badge.svg\" alt=\"Open In Colab\"/></a>"
      ]
    },
    {
      "cell_type": "code",
      "metadata": {
        "colab": {
          "base_uri": "https://localhost:8080/"
        },
        "id": "rU05_CHoGy5t",
        "outputId": "681c728e-41ac-4012-fe16-ca4a0a77d28a"
      },
      "source": [
        "d = dict()\n",
        "d['quincy'] = 1\n",
        "d['beau'] = 5\n",
        "d['kris'] = 9\n",
        "for (k,i) in d.items():\n",
        "    print(k, i)"
      ],
      "execution_count": 6,
      "outputs": [
        {
          "output_type": "stream",
          "text": [
            "quincy 1\n",
            "beau 5\n",
            "kris 9\n"
          ],
          "name": "stdout"
        }
      ]
    }
  ]
}