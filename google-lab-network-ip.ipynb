{
  "nbformat": 4,
  "nbformat_minor": 0,
  "metadata": {
    "colab": {
      "name": "Untitled10.ipynb",
      "provenance": [],
      "authorship_tag": "ABX9TyPfMgw9UnUL1v93AtyQkWT6",
      "include_colab_link": true
    },
    "kernelspec": {
      "name": "python3",
      "display_name": "Python 3"
    }
  },
  "cells": [
    {
      "cell_type": "markdown",
      "metadata": {
        "id": "view-in-github",
        "colab_type": "text"
      },
      "source": [
        "<a href=\"https://colab.research.google.com/github/anasir514/colab/blob/main/google-lab-network-ip.ipynb\" target=\"_parent\"><img src=\"https://colab.research.google.com/assets/colab-badge.svg\" alt=\"Open In Colab\"/></a>"
      ]
    },
    {
      "cell_type": "code",
      "metadata": {
        "colab": {
          "base_uri": "https://localhost:8080/"
        },
        "id": "JBHkmcmDE83c",
        "outputId": "7c7ae500-9f5a-4c72-87a1-869e5706a465"
      },
      "source": [
        "#Begin Portion 1#\n",
        "import random\n",
        "\n",
        "class Server:\n",
        "    def __init__(self):\n",
        "        \"\"\"Creates a new server instance, with no active connections.\"\"\"\n",
        "        self.connections = {}\n",
        "\n",
        "    def add_connection(self, connection_id):\n",
        "        \"\"\"Adds a new connection to this server.\"\"\"\n",
        "        connection_load = random.random()*10+1\n",
        "        # Add the connection to the dictionary with the calculated load\n",
        "\n",
        "    def close_connection(self, connection_id):\n",
        "        \"\"\"Closes a connection on this server.\"\"\"\n",
        "        # Remove the connection from the dictionary\n",
        "\n",
        "    def load(self):\n",
        "        \"\"\"Calculates the current load for all connections.\"\"\"\n",
        "        total = 0\n",
        "        # Add up the load for each of the connections\n",
        "        return total\n",
        "\n",
        "    def __str__(self):\n",
        "        \"\"\"Returns a string with the current load of the server\"\"\"\n",
        "        return \"{:.2f}%\".format(self.load())\n",
        "    \n",
        "#End Portion 1#\n",
        "\n",
        "server = Server()\n",
        "server.add_connection(\"192.168.1.1\")\n",
        "\n",
        "print(server.load())\n",
        "\n",
        "server.close_connection(\"192.168.1.1\")\n",
        "print(server.load())\n",
        "#Begin Portion 2#\n",
        "class LoadBalancing:\n",
        "    def __init__(self):\n",
        "        \"\"\"Initialize the load balancing system with one server\"\"\"\n",
        "        self.connections = {}\n",
        "        self.servers = [Server()]\n",
        "\n",
        "    def add_connection(self, connection_id):\n",
        "        \"\"\"Randomly selects a server and adds a connection to it.\"\"\"\n",
        "        server = random.choice(self.servers)\n",
        "        # Add the connection to the dictionary with the selected server\n",
        "        # Add the connection to the server\n",
        "\n",
        "    def close_connection(self, connection_id):\n",
        "        \"\"\"Closes the connection on the the server corresponding to connection_id.\"\"\"\n",
        "        # Find out the right server\n",
        "        # Close the connection on the server\n",
        "        # Remove the connection from the load balancer\n",
        "\n",
        "    def avg_load(self):\n",
        "        \"\"\"Calculates the average load of all servers\"\"\"\n",
        "        # Sum the load of each server and divide by the amount of servers\n",
        "        return 0\n",
        "\n",
        "    def ensure_availability(self):\n",
        "        \"\"\"If the average load is higher than 50, spin up a new server\"\"\"\n",
        "        pass\n",
        "\n",
        "    def __str__(self):\n",
        "        \"\"\"Returns a string with the load for each server.\"\"\"\n",
        "        loads = [str(server) for server in self.servers]\n",
        "        return \"[{}]\".format(\",\".join(loads))\n",
        "#End Portion 2#\n",
        "l = LoadBalancing()\n",
        "l.add_connection(\"fdca:83d2::f20d\")\n",
        "print(l.avg_load())\n",
        "l.servers.append(Server())\n",
        "print(l.avg_load())\n",
        "l.close_connection(\"fdca:83d2::f20d\")\n",
        "print(l.avg_load())\n",
        "for connection in range(20):\n",
        "    l.add_connection(connection)\n",
        "print(l)\n",
        "print(l.avg_load())\n",
        "\n",
        "\n"
      ],
      "execution_count": 42,
      "outputs": [
        {
          "output_type": "stream",
          "text": [
            "0\n",
            "0\n",
            "0\n",
            "0\n",
            "0\n",
            "[0.00%,0.00%]\n",
            "0\n"
          ],
          "name": "stdout"
        }
      ]
    }
  ]
}