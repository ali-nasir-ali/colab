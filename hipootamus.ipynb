{
  "nbformat": 4,
  "nbformat_minor": 0,
  "metadata": {
    "colab": {
      "name": "Untitled3.ipynb",
      "provenance": [],
      "authorship_tag": "ABX9TyOaQqwydTig5HCBDyjONuEJ",
      "include_colab_link": true
    },
    "kernelspec": {
      "name": "python3",
      "display_name": "Python 3"
    }
  },
  "cells": [
    {
      "cell_type": "markdown",
      "metadata": {
        "id": "view-in-github",
        "colab_type": "text"
      },
      "source": [
        "<a href=\"https://colab.research.google.com/github/anasir514/colab/blob/main/hipootamus.ipynb\" target=\"_parent\"><img src=\"https://colab.research.google.com/assets/colab-badge.svg\" alt=\"Open In Colab\"/></a>"
      ]
    },
    {
      "cell_type": "code",
      "metadata": {
        "colab": {
          "base_uri": "https://localhost:8080/"
        },
        "id": "FOko0-oW_09-",
        "outputId": "f2d1c99c-bce9-4b93-d895-bd90aad4bf90"
      },
      "source": [
        "animal = \"Hippopotamus\"\n",
        "print(animal[3:6])\n",
        "print(animal[-5])\n",
        "print(animal[10:])"
      ],
      "execution_count": 32,
      "outputs": [
        {
          "output_type": "stream",
          "text": [
            "pop\n",
            "t\n",
            "us\n"
          ],
          "name": "stdout"
        }
      ]
    }
  ]
}