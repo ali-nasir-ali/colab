{
  "nbformat": 4,
  "nbformat_minor": 0,
  "metadata": {
    "colab": {
      "name": "Untitled10.ipynb",
      "provenance": [],
      "authorship_tag": "ABX9TyNuAHiC14uzpLbwd0sLrxRv",
      "include_colab_link": true
    },
    "kernelspec": {
      "name": "python3",
      "display_name": "Python 3"
    }
  },
  "cells": [
    {
      "cell_type": "markdown",
      "metadata": {
        "id": "view-in-github",
        "colab_type": "text"
      },
      "source": [
        "<a href=\"https://colab.research.google.com/github/anasir514/colab/blob/main/apple-color.ipynb\" target=\"_parent\"><img src=\"https://colab.research.google.com/assets/colab-badge.svg\" alt=\"Open In Colab\"/></a>"
      ]
    },
    {
      "cell_type": "code",
      "metadata": {
        "colab": {
          "base_uri": "https://localhost:8080/"
        },
        "id": "JBHkmcmDE83c",
        "outputId": "97bfeb09-05bb-48c7-e6f6-6e62966135e1"
      },
      "source": [
        "class Apple:\n",
        "     def __init__(self, color, flavor):\n",
        "         self.color = color\n",
        "         self.flavor = flavor\n",
        "\n",
        "granny_smith = Apple(\"green\", \"tart\")\n",
        "print(granny_smith.flavor)\n"
      ],
      "execution_count": 26,
      "outputs": [
        {
          "output_type": "stream",
          "text": [
            "tart\n"
          ],
          "name": "stdout"
        }
      ]
    }
  ]
}