{
  "nbformat": 4,
  "nbformat_minor": 0,
  "metadata": {
    "colab": {
      "name": "Untitled4.ipynb",
      "provenance": [],
      "authorship_tag": "ABX9TyPcLGxH3+xJdKfdELO+ugWq",
      "include_colab_link": true
    },
    "kernelspec": {
      "name": "python3",
      "display_name": "Python 3"
    }
  },
  "cells": [
    {
      "cell_type": "markdown",
      "metadata": {
        "id": "view-in-github",
        "colab_type": "text"
      },
      "source": [
        "<a href=\"https://colab.research.google.com/github/anasir514/colab/blob/main/simphony-simple.ipynb\" target=\"_parent\"><img src=\"https://colab.research.google.com/assets/colab-badge.svg\" alt=\"Open In Colab\"/></a>"
      ]
    },
    {
      "cell_type": "code",
      "metadata": {
        "colab": {
          "base_uri": "https://localhost:8080/"
        },
        "id": "_9eCpxHadQ8s",
        "outputId": "c6732fb8-c1f9-4fc0-ad94-3e856f92a49a"
      },
      "source": [
        "pip install PyQt5  "
      ],
      "execution_count": 8,
      "outputs": [
        {
          "output_type": "stream",
          "text": [
            "Requirement already satisfied: PyQt5 in /usr/local/lib/python3.7/dist-packages (5.15.4)\n",
            "Requirement already satisfied: PyQt5-Qt5>=5.15 in /usr/local/lib/python3.7/dist-packages (from PyQt5) (5.15.2)\n",
            "Requirement already satisfied: PyQt5-sip<13,>=12.8 in /usr/local/lib/python3.7/dist-packages (from PyQt5) (12.8.1)\n"
          ],
          "name": "stdout"
        }
      ]
    },
    {
      "cell_type": "code",
      "metadata": {
        "id": "pLa1SfLadHgb"
      },
      "source": [
        "#import sys, winsound\n",
        "from PyQt5 import QtCore, QtGui, QtWidgets\n",
        "from PyQt5.QtWidgets import QApplication, QMainWindow, QLCDNumber\n",
        "from PyQt5.QtCore import (QCoreApplication, QObject, QRunnable, QThread, QThreadPool, pyqtSignal)\n",
        "\n",
        "\n",
        "class MainWindow(QMainWindow):\n",
        "    def __init__(self):\n",
        "        super(MainWindow, self).__init__()\n",
        "        self.setGeometry(548, 225, 548, 225)\n",
        "        self.setWindowTitle(\"Melody Player\")\n",
        "        self.setWindowIcon(QtGui.QIcon(\"icon.png\"))\n",
        "        self.initUI()\n",
        "\n",
        "    def initUI(self):\n",
        "        self.Button_00 = QtWidgets.QPushButton(self)\n",
        "        self.Button_00.setGeometry(QtCore.QRect(10, 10, 75, 71))\n",
        "        self.Button_00.setObjectName(\"Button_00\")\n",
        "        self.Button_00.setText(\"♩\")\n",
        "        self.Button_00.clicked.connect(lambda: winsound.Beep(2300, 100))\n",
        "\n",
        "        self.Button_01 = QtWidgets.QPushButton(self)\n",
        "        self.Button_01.setGeometry(QtCore.QRect(100, 10, 75, 71))\n",
        "        self.Button_01.setObjectName(\"Button_01\")\n",
        "        self.Button_01.setText(\"♪\")\n",
        "        self.Button_01.clicked.connect(lambda: winsound.Beep(2100, 100))\n",
        "        \n",
        "        self.Button_02 = QtWidgets.QPushButton(self)\n",
        "        self.Button_02.setGeometry(QtCore.QRect(190, 10, 75, 71))\n",
        "        self.Button_02.setObjectName(\"Button_02\")\n",
        "        self.Button_02.setText(\"♫\")\n",
        "        self.Button_02.clicked.connect(lambda: winsound.Beep(1900, 100))\n",
        "\n",
        "        self.Button_03 = QtWidgets.QPushButton(self)\n",
        "        self.Button_03.setGeometry(QtCore.QRect(280, 10, 75, 71))\n",
        "        self.Button_03.setObjectName(\"Button_03\")\n",
        "        self.Button_03.setText(\"≠\")\n",
        "        self.Button_03.clicked.connect(lambda: winsound.Beep(1700, 100))\n",
        "\n",
        "        self.Button_04 = QtWidgets.QPushButton(self)\n",
        "        self.Button_04.setGeometry(QtCore.QRect(370, 10, 75, 71))\n",
        "        self.Button_04.setObjectName(\"Button_04\")\n",
        "        self.Button_04.setText(\"♭\")\n",
        "        self.Button_04.clicked.connect(lambda: winsound.Beep(1500, 100))\n",
        "\n",
        "        self.Button_05 = QtWidgets.QPushButton(self)\n",
        "        self.Button_05.setGeometry(QtCore.QRect(460, 10, 75, 71))\n",
        "        self.Button_05.setObjectName(\"Button_05\")\n",
        "        self.Button_05.setText(\"♮\")\n",
        "        self.Button_05.clicked.connect(lambda: winsound.Beep(1300, 100))\n",
        "\n",
        "        self.Button_06 = QtWidgets.QPushButton(self)\n",
        "        self.Button_06.setGeometry(QtCore.QRect(10, 90, 75, 71))\n",
        "        self.Button_06.setObjectName(\"Button_06\")\n",
        "        self.Button_06.setText(\"°\")\n",
        "        self.Button_06.clicked.connect(lambda: winsound.Beep(1100, 100))\n",
        "\n",
        "        self.Button_07 = QtWidgets.QPushButton(self)\n",
        "        self.Button_07.setGeometry(QtCore.QRect(100, 90, 75, 71))\n",
        "        self.Button_07.setObjectName(\"Button_07\")\n",
        "        self.Button_07.setText(\"ø\")\n",
        "        self.Button_07.clicked.connect(lambda: winsound.Beep(900, 100))\n",
        "\n",
        "        self.Button_08 = QtWidgets.QPushButton(self)\n",
        "        self.Button_08.setGeometry(QtCore.QRect(190, 90, 75, 71))\n",
        "        self.Button_08.setObjectName(\"Button_08\")\n",
        "        self.Button_08.setText(\"♬\")\n",
        "        self.Button_08.clicked.connect(lambda: winsound.Beep(700, 100))\n",
        "\n",
        "        self.Button_09 = QtWidgets.QPushButton(self)\n",
        "        self.Button_09.setGeometry(QtCore.QRect(280, 90, 75, 71))\n",
        "        self.Button_09.setObjectName(\"Button_09\")\n",
        "        self.Button_09.setText(\"≭\")\n",
        "        self.Button_09.clicked.connect(lambda: winsound.Beep(500, 100))\n",
        "\n",
        "        self.Button_10 = QtWidgets.QPushButton(self)\n",
        "        self.Button_10.setGeometry(QtCore.QRect(370, 90, 75, 71))\n",
        "        self.Button_10.setObjectName(\"Button_10\")\n",
        "        self.Button_10.setText(\"♯\")\n",
        "        self.Button_10.clicked.connect(lambda: winsound.Beep(300, 100))\n",
        "\n",
        "        self.Button_11 = QtWidgets.QPushButton(self)\n",
        "        self.Button_11.setGeometry(QtCore.QRect(460, 90, 75, 71))\n",
        "        self.Button_11.setObjectName(\"Button_11\")\n",
        "        self.Button_11.setText(\"؂\")\n",
        "        self.Button_11.clicked.connect(lambda: winsound.Beep(100, 100))\n",
        "\n",
        "        self.tag = QtWidgets.QLabel(self)\n",
        "        self.tag.setGeometry(QtCore.QRect(220, 170, 121, 20))\n",
        "        font = QtGui.QFont()\n",
        "        font.setPointSize(11)\n",
        "        font.setBold(True)\n",
        "        font.setWeight(75)\n",
        "        self.tag.setFont(font)\n",
        "        self.tag.setObjectName(\"tag\")\n",
        "        self.tag.setText(\"python_genius\")\n",
        "\n",
        "    \n",
        "if __name__ == \"__main__\":\n",
        "    #app = QApplication(sys.argv)\n",
        "    window = MainWindow()\n",
        "    window.show()\n",
        "    app.exec_()\n"
      ],
      "execution_count": null,
      "outputs": []
    }
  ]
}