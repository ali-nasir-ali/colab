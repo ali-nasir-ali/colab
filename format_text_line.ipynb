{
  "nbformat": 4,
  "nbformat_minor": 0,
  "metadata": {
    "colab": {
      "name": "Untitled3.ipynb",
      "provenance": [],
      "authorship_tag": "ABX9TyNHj+KB/1kfrYYPSj4KeoXM",
      "include_colab_link": true
    },
    "kernelspec": {
      "name": "python3",
      "display_name": "Python 3"
    }
  },
  "cells": [
    {
      "cell_type": "markdown",
      "metadata": {
        "id": "view-in-github",
        "colab_type": "text"
      },
      "source": [
        "<a href=\"https://colab.research.google.com/github/anasir514/colab/blob/main/format_text_line.ipynb\" target=\"_parent\"><img src=\"https://colab.research.google.com/assets/colab-badge.svg\" alt=\"Open In Colab\"/></a>"
      ]
    },
    {
      "cell_type": "code",
      "metadata": {
        "colab": {
          "base_uri": "https://localhost:8080/"
        },
        "id": "FOko0-oW_09-",
        "outputId": "808d228b-2778-400a-c94c-f56d43917179"
      },
      "source": [
        "def guest_list(guests):\n",
        "  for guest in guests:\n",
        "    name, age, job = guest\n",
        "    print(\"{} is {} years old and works as {}\".format(name, age, job))\n",
        "\n",
        "guest_list([('Ken', 30, \"Chef\"), (\"Pat\", 35, 'Lawyer'), ('Amanda', 25, \"Engineer\")])"
      ],
      "execution_count": 11,
      "outputs": [
        {
          "output_type": "stream",
          "text": [
            "Ken is 30 years old and works as Chef.\n",
            "Pat is 35 years old and works as Lawyer.\n",
            "Amanda is 25 years old and works as Engineer.\n"
          ],
          "name": "stdout"
        }
      ]
    }
  ]
}