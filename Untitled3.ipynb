{
  "nbformat": 4,
  "nbformat_minor": 0,
  "metadata": {
    "colab": {
      "name": "Untitled3.ipynb",
      "provenance": [],
      "authorship_tag": "ABX9TyP5tzBk53jp22UbxeaGNs61",
      "include_colab_link": true
    },
    "kernelspec": {
      "name": "python3",
      "display_name": "Python 3"
    },
    "language_info": {
      "name": "python"
    }
  },
  "cells": [
    {
      "cell_type": "markdown",
      "metadata": {
        "id": "view-in-github",
        "colab_type": "text"
      },
      "source": [
        "<a href=\"https://colab.research.google.com/github/anasir514/colab/blob/main/Untitled3.ipynb\" target=\"_parent\"><img src=\"https://colab.research.google.com/assets/colab-badge.svg\" alt=\"Open In Colab\"/></a>"
      ]
    },
    {
      "cell_type": "code",
      "metadata": {
        "id": "s5adzVS7G8gR"
      },
      "source": [
        "import requests\n",
        "url = 'https://rest.coinapi.io/v1/exchanges'\n",
        "headers = {'X-CoinAPI-Key' : '3BFA0F2E-078D-4F26-ACB5-19B2E30D2764'}\n",
        "response = requests.get(url, headers=headers)\n"
      ],
      "execution_count": 2,
      "outputs": []
    }
  ]
}